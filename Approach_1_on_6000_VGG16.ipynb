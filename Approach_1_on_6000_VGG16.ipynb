{
  "nbformat": 4,
  "nbformat_minor": 0,
  "metadata": {
    "colab": {
      "name": "VGG 16 dataset3",
      "provenance": []
    },
    "kernelspec": {
      "name": "python3",
      "display_name": "Python 3"
    },
    "accelerator": "GPU"
  },
  "cells": [
    {
      "cell_type": "code",
      "metadata": {
        "id": "mzQSC1rdTF1h",
        "outputId": "5c12c807-8916-4aa0-abf4-47c9e548c255",
        "colab": {
          "base_uri": "https://localhost:8080/",
          "height": 50
        }
      },
      "source": [
        "!unzip \"/content/drive/My Drive/ADM/dataset3.zip\" -d \"/content/sample_data/dataset\""
      ],
      "execution_count": null,
      "outputs": [
        {
          "output_type": "stream",
          "text": [
            "Archive:  /content/drive/My Drive/ADM/dataset3.zip\n",
            "replace /content/sample_data/dataset/dataset3/test_images_from_train/00fb450622785388.jpg? [y]es, [n]o, [A]ll, [N]one, [r]ename: "
          ],
          "name": "stdout"
        }
      ]
    },
    {
      "cell_type": "code",
      "metadata": {
        "id": "jQ0WERIqYH7p"
      },
      "source": [
        "# Make sure we are pointing to the directory that has all the files necessary\n",
        "import numpy as np \n",
        "import pandas as pd \n",
        "import sys, requests, shutil, os\n",
        "import numpy as np\n",
        "from shutil import copyfile\n",
        "import urllib\n",
        "from tensorflow.keras.preprocessing.image import ImageDataGenerator, img_to_array, load_img\n",
        "from tensorflow.keras.models import Sequential\n",
        "from tensorflow.keras.layers import Dropout, Flatten, Dense, GlobalAveragePooling2D\n",
        "from tensorflow.keras import applications\n",
        "from tensorflow.keras.preprocessing.image import ImageDataGenerator\n",
        "from tensorflow.keras import optimizers\n",
        "#from tensorflow.keras.utils.np_utils import to_categorical\n",
        "from tensorflow.keras.utils import to_categorical\n",
        "\n",
        "from tensorflow.keras.callbacks import ModelCheckpoint\n",
        "from tensorflow.keras.models import Model\n",
        "import csv\n",
        "import os\n",
        "import cv2\n",
        "from tensorflow.keras.models import load_model\n",
        "import matplotlib.pyplot as plt\n",
        "import math\n",
        "from tensorflow.keras.optimizers import Adam\n",
        "from sklearn.model_selection import train_test_split\n",
        "from tensorflow.keras.preprocessing.image import img_to_array\n",
        "from tensorflow.keras.utils import to_categorical\n",
        "import matplotlib.pyplot as plt\n",
        "import numpy as np\n",
        "import argparse\n",
        "import random\n",
        "import tensorflow as tf\n",
        "import tensorflow.keras\n",
        "from keras.optimizers import SGD, Adam"
      ],
      "execution_count": null,
      "outputs": []
    },
    {
      "cell_type": "code",
      "metadata": {
        "id": "-uR2DbbxZNzK",
        "outputId": "908eb1bb-691c-4525-dcd1-19c3de9eeb33",
        "colab": {
          "base_uri": "https://localhost:8080/",
          "height": 34
        }
      },
      "source": [
        "cd \"/content/sample_data/dataset/dataset3\""
      ],
      "execution_count": null,
      "outputs": [
        {
          "output_type": "stream",
          "text": [
            "/content/sample_data/dataset/dataset3\n"
          ],
          "name": "stdout"
        }
      ]
    },
    {
      "cell_type": "code",
      "metadata": {
        "id": "vKoFsKl8ToMq",
        "outputId": "9dec5cdf-4810-4cad-842d-d51acb391c7b",
        "colab": {
          "base_uri": "https://localhost:8080/",
          "height": 1000
        }
      },
      "source": [
        "# This is where we fine tune the pretrained model according to our dataset\n",
        "img_width, img_height = 96, 96\n",
        "save_model_weights = \"VGG16_weights.h5\"\n",
        "train_data_dir = 'train_images_model'\n",
        "validation_data_dir = 'validation_images_model'\n",
        "batch_size = 200\n",
        "epochs = 100\n",
        "def train_VGG16():\n",
        "\n",
        "    \n",
        "\n",
        "    base_model = applications.VGG16(weights='imagenet',include_top= False,input_shape=(96,96,3))\n",
        "    top_model = Sequential()\n",
        "    top_model.add(Flatten(input_shape=base_model.output_shape[1:]))\n",
        "    top_model.add(Dense(256, activation='relu'))\n",
        "    top_model.add(Dense(256, activation='relu'))\n",
        "    n_class = 6000\n",
        "    top_model.add(Dense(n_class, activation='softmax'))    \n",
        "\n",
        "    model = Model(base_model.input, top_model(base_model.output))\n",
        "    # set the first 16 layers to non-trainable (weights will not be updated) \n",
        "    # 1 conv layer and three dense layers will be trained\n",
        "    for layer in model.layers[:16]:\n",
        "        layer.trainable = False\n",
        "    #model.load_weights(\"/content/sample_data/dataset/dataset3/VGG16_weights.h5\")\n",
        "    model.compile(loss='categorical_crossentropy',\n",
        "                  optimizer=optimizers.Adam(lr=0.001, beta_1=0.9,beta_2=0.999,epsilon=1e-8, decay=0.0),\n",
        "                  metrics=['accuracy'])\n",
        "    print ('Compilation done.')\n",
        "    \n",
        "    train_datagen = ImageDataGenerator(rescale=1. / 255,\n",
        "                                       rotation_range=90,\n",
        "                                        width_shift_range=0.2,\n",
        "                                        height_shift_range=0.2,\n",
        "                                        zoom_range = 0.5)\n",
        "    \n",
        "    valid_datagen = ImageDataGenerator(rescale=1. / 255)\n",
        "\n",
        "    train_generator = train_datagen.flow_from_directory(\n",
        "        train_data_dir,\n",
        "        target_size=(img_height, img_width),\n",
        "        batch_size=batch_size,\n",
        "        class_mode='categorical')\n",
        "\n",
        "    #np.save('class_indices.npy', train_generator.class_indices)\n",
        "\n",
        "    validation_generator = valid_datagen.flow_from_directory(\n",
        "        validation_data_dir,\n",
        "        target_size=(img_height, img_width),\n",
        "        batch_size=batch_size,\n",
        "        class_mode='categorical')\n",
        "    \n",
        "    print ('Model fit begins...')\n",
        "    history1=model.fit_generator(\n",
        "        train_generator,\n",
        "        steps_per_epoch=150,\n",
        "        epochs=epochs,\n",
        "        validation_data=validation_generator,\n",
        "        validation_steps=75,\n",
        "        callbacks=[ModelCheckpoint(filepath=\"vgg16_weights_tf_dim_ordering_tf_kernels-notop.h5\", \n",
        "                                   save_best_only=True, save_weights_only=True)]\n",
        "        )\n",
        "    \n",
        "    model.save_weights(save_model_weights)\n",
        "    # final weights are saved in bottleneck_fc_model.h5 file\n",
        "    return history1\n",
        "history1=train_VGG16()"
      ],
      "execution_count": null,
      "outputs": [
        {
          "output_type": "stream",
          "text": [
            "Compilation done.\n",
            "Found 246794 images belonging to 6000 classes.\n",
            "Found 54916 images belonging to 6000 classes.\n",
            "Model fit begins...\n"
          ],
          "name": "stdout"
        },
        {
          "output_type": "stream",
          "text": [
            "/usr/local/lib/python3.6/dist-packages/PIL/Image.py:932: UserWarning: Palette images with Transparency expressed in bytes should be converted to RGBA images\n",
            "  \"Palette images with Transparency expressed in bytes should be \"\n"
          ],
          "name": "stderr"
        },
        {
          "output_type": "stream",
          "text": [
            "Epoch 1/100\n",
            "150/150 [==============================] - 108s 722ms/step - loss: 7.4300 - accuracy: 0.0090 - val_loss: 7.1718 - val_accuracy: 0.0139\n",
            "Epoch 2/100\n",
            "150/150 [==============================] - 109s 729ms/step - loss: 6.9714 - accuracy: 0.0192 - val_loss: 6.9208 - val_accuracy: 0.0205\n",
            "Epoch 3/100\n",
            "150/150 [==============================] - 108s 722ms/step - loss: 6.6725 - accuracy: 0.0275 - val_loss: 6.6716 - val_accuracy: 0.0251\n",
            "Epoch 4/100\n",
            "150/150 [==============================] - 109s 726ms/step - loss: 6.5231 - accuracy: 0.0335 - val_loss: 6.4537 - val_accuracy: 0.0350\n",
            "Epoch 5/100\n",
            "150/150 [==============================] - 109s 726ms/step - loss: 6.4007 - accuracy: 0.0410 - val_loss: 6.3077 - val_accuracy: 0.0434\n",
            "Epoch 6/100\n",
            "150/150 [==============================] - 109s 727ms/step - loss: 6.2400 - accuracy: 0.0529 - val_loss: 6.3571 - val_accuracy: 0.0443\n",
            "Epoch 7/100\n",
            "150/150 [==============================] - 110s 731ms/step - loss: 6.1298 - accuracy: 0.0607 - val_loss: 6.1201 - val_accuracy: 0.0615\n",
            "Epoch 8/100\n",
            "150/150 [==============================] - 110s 731ms/step - loss: 5.9918 - accuracy: 0.0681 - val_loss: 6.0070 - val_accuracy: 0.0675\n",
            "Epoch 9/100\n",
            "150/150 [==============================] - 109s 727ms/step - loss: 5.8889 - accuracy: 0.0771 - val_loss: 5.9660 - val_accuracy: 0.0698\n",
            "Epoch 10/100\n",
            "150/150 [==============================] - 110s 731ms/step - loss: 5.7831 - accuracy: 0.0857 - val_loss: 5.6975 - val_accuracy: 0.0823\n",
            "Epoch 11/100\n",
            "150/150 [==============================] - 109s 728ms/step - loss: 5.7154 - accuracy: 0.0882 - val_loss: 5.6943 - val_accuracy: 0.0902\n",
            "Epoch 12/100\n",
            "150/150 [==============================] - 109s 726ms/step - loss: 5.6435 - accuracy: 0.0931 - val_loss: 5.5814 - val_accuracy: 0.0971\n",
            "Epoch 13/100\n",
            "150/150 [==============================] - 109s 728ms/step - loss: 5.5917 - accuracy: 0.0958 - val_loss: 5.5662 - val_accuracy: 0.1003\n",
            "Epoch 14/100\n",
            "150/150 [==============================] - 109s 729ms/step - loss: 5.5090 - accuracy: 0.0989 - val_loss: 5.4818 - val_accuracy: 0.1073\n",
            "Epoch 15/100\n",
            "150/150 [==============================] - 109s 728ms/step - loss: 5.4479 - accuracy: 0.1081 - val_loss: 5.4121 - val_accuracy: 0.1115\n",
            "Epoch 16/100\n",
            "150/150 [==============================] - 109s 724ms/step - loss: 5.4146 - accuracy: 0.1098 - val_loss: 5.3636 - val_accuracy: 0.1151\n",
            "Epoch 17/100\n",
            "150/150 [==============================] - 109s 725ms/step - loss: 5.3553 - accuracy: 0.1113 - val_loss: 5.3788 - val_accuracy: 0.1195\n",
            "Epoch 18/100\n",
            "150/150 [==============================] - 110s 730ms/step - loss: 5.3490 - accuracy: 0.1151 - val_loss: 5.4474 - val_accuracy: 0.1133\n",
            "Epoch 19/100\n",
            "150/150 [==============================] - 109s 728ms/step - loss: 5.2971 - accuracy: 0.1209 - val_loss: 5.3283 - val_accuracy: 0.1272\n",
            "Epoch 20/100\n",
            "150/150 [==============================] - 109s 726ms/step - loss: 5.2446 - accuracy: 0.1248 - val_loss: 5.2383 - val_accuracy: 0.1331\n",
            "Epoch 21/100\n",
            "150/150 [==============================] - 110s 730ms/step - loss: 5.2162 - accuracy: 0.1228 - val_loss: 5.1954 - val_accuracy: 0.1388\n",
            "Epoch 22/100\n",
            "150/150 [==============================] - 110s 730ms/step - loss: 5.2105 - accuracy: 0.1253 - val_loss: 5.1831 - val_accuracy: 0.1293\n",
            "Epoch 23/100\n",
            "150/150 [==============================] - 109s 728ms/step - loss: 5.1667 - accuracy: 0.1315 - val_loss: 5.1527 - val_accuracy: 0.1325\n",
            "Epoch 24/100\n",
            "150/150 [==============================] - 109s 726ms/step - loss: 5.1345 - accuracy: 0.1336 - val_loss: 5.2340 - val_accuracy: 0.1307\n",
            "Epoch 25/100\n",
            "150/150 [==============================] - 109s 725ms/step - loss: 5.1241 - accuracy: 0.1340 - val_loss: 5.2166 - val_accuracy: 0.1418\n",
            "Epoch 26/100\n",
            "150/150 [==============================] - 108s 722ms/step - loss: 5.1025 - accuracy: 0.1361 - val_loss: 5.0651 - val_accuracy: 0.1508\n",
            "Epoch 27/100\n",
            "150/150 [==============================] - 109s 728ms/step - loss: 5.0498 - accuracy: 0.1392 - val_loss: 5.1113 - val_accuracy: 0.1483\n",
            "Epoch 28/100\n",
            "150/150 [==============================] - 109s 726ms/step - loss: 5.0443 - accuracy: 0.1408 - val_loss: 5.1296 - val_accuracy: 0.1529\n",
            "Epoch 29/100\n",
            "150/150 [==============================] - 108s 723ms/step - loss: 5.0499 - accuracy: 0.1398 - val_loss: 5.0342 - val_accuracy: 0.1507\n",
            "Epoch 30/100\n",
            "150/150 [==============================] - 108s 721ms/step - loss: 4.9938 - accuracy: 0.1462 - val_loss: 5.0420 - val_accuracy: 0.1569\n",
            "Epoch 31/100\n",
            "150/150 [==============================] - 109s 726ms/step - loss: 4.9983 - accuracy: 0.1471 - val_loss: 5.0137 - val_accuracy: 0.1583\n",
            "Epoch 32/100\n",
            "150/150 [==============================] - 109s 724ms/step - loss: 4.9832 - accuracy: 0.1482 - val_loss: 5.0043 - val_accuracy: 0.1606\n",
            "Epoch 33/100\n",
            "150/150 [==============================] - 110s 730ms/step - loss: 4.9514 - accuracy: 0.1527 - val_loss: 4.9065 - val_accuracy: 0.1719\n",
            "Epoch 34/100\n",
            "150/150 [==============================] - 109s 725ms/step - loss: 4.9365 - accuracy: 0.1472 - val_loss: 4.9690 - val_accuracy: 0.1697\n",
            "Epoch 35/100\n",
            "150/150 [==============================] - 110s 732ms/step - loss: 4.9152 - accuracy: 0.1490 - val_loss: 4.8987 - val_accuracy: 0.1738\n",
            "Epoch 36/100\n",
            "150/150 [==============================] - 110s 731ms/step - loss: 4.8905 - accuracy: 0.1535 - val_loss: 4.8897 - val_accuracy: 0.1688\n",
            "Epoch 37/100\n",
            "150/150 [==============================] - 109s 727ms/step - loss: 4.8836 - accuracy: 0.1577 - val_loss: 5.0219 - val_accuracy: 0.1615\n",
            "Epoch 38/100\n",
            "150/150 [==============================] - 109s 728ms/step - loss: 4.8446 - accuracy: 0.1567 - val_loss: 4.9855 - val_accuracy: 0.1672\n",
            "Epoch 39/100\n",
            "150/150 [==============================] - 109s 724ms/step - loss: 4.8623 - accuracy: 0.1564 - val_loss: 4.9100 - val_accuracy: 0.1745\n",
            "Epoch 40/100\n",
            "150/150 [==============================] - 108s 722ms/step - loss: 4.8319 - accuracy: 0.1631 - val_loss: 4.9599 - val_accuracy: 0.1672\n",
            "Epoch 41/100\n",
            "150/150 [==============================] - 108s 723ms/step - loss: 4.8018 - accuracy: 0.1641 - val_loss: 4.8263 - val_accuracy: 0.1813\n",
            "Epoch 42/100\n",
            "150/150 [==============================] - 109s 724ms/step - loss: 4.8038 - accuracy: 0.1625 - val_loss: 4.8219 - val_accuracy: 0.1865\n",
            "Epoch 43/100\n",
            "150/150 [==============================] - 109s 727ms/step - loss: 4.8120 - accuracy: 0.1608 - val_loss: 4.8227 - val_accuracy: 0.1813\n",
            "Epoch 44/100\n",
            "150/150 [==============================] - 109s 724ms/step - loss: 4.8053 - accuracy: 0.1621 - val_loss: 4.7299 - val_accuracy: 0.1912\n",
            "Epoch 45/100\n",
            "150/150 [==============================] - 108s 723ms/step - loss: 4.7757 - accuracy: 0.1666 - val_loss: 4.9076 - val_accuracy: 0.1785\n",
            "Epoch 46/100\n",
            "150/150 [==============================] - 108s 723ms/step - loss: 4.7433 - accuracy: 0.1683 - val_loss: 4.8026 - val_accuracy: 0.1888\n",
            "Epoch 47/100\n",
            "150/150 [==============================] - 109s 724ms/step - loss: 4.7614 - accuracy: 0.1668 - val_loss: 4.7838 - val_accuracy: 0.1893\n",
            "Epoch 48/100\n",
            "150/150 [==============================] - 109s 729ms/step - loss: 4.7155 - accuracy: 0.1739 - val_loss: 4.8190 - val_accuracy: 0.1835\n",
            "Epoch 49/100\n",
            "150/150 [==============================] - 109s 728ms/step - loss: 4.7411 - accuracy: 0.1712 - val_loss: 4.7230 - val_accuracy: 0.1908\n",
            "Epoch 50/100\n",
            "150/150 [==============================] - 109s 729ms/step - loss: 4.7027 - accuracy: 0.1734 - val_loss: 4.7255 - val_accuracy: 0.1964\n",
            "Epoch 51/100\n",
            "150/150 [==============================] - 110s 732ms/step - loss: 4.7041 - accuracy: 0.1739 - val_loss: 4.7440 - val_accuracy: 0.1863\n",
            "Epoch 52/100\n",
            "150/150 [==============================] - 111s 738ms/step - loss: 4.6709 - accuracy: 0.1782 - val_loss: 4.9017 - val_accuracy: 0.1861\n",
            "Epoch 53/100\n",
            "150/150 [==============================] - 110s 734ms/step - loss: 4.6747 - accuracy: 0.1765 - val_loss: 4.6901 - val_accuracy: 0.2022\n",
            "Epoch 54/100\n",
            "150/150 [==============================] - 110s 735ms/step - loss: 4.6791 - accuracy: 0.1747 - val_loss: 4.6284 - val_accuracy: 0.2114\n",
            "Epoch 55/100\n",
            "150/150 [==============================] - 111s 739ms/step - loss: 4.6236 - accuracy: 0.1842 - val_loss: 4.8191 - val_accuracy: 0.1897\n",
            "Epoch 56/100\n",
            "150/150 [==============================] - 110s 735ms/step - loss: 4.6483 - accuracy: 0.1785 - val_loss: 4.8465 - val_accuracy: 0.1816\n",
            "Epoch 57/100\n",
            "150/150 [==============================] - 111s 737ms/step - loss: 4.6349 - accuracy: 0.1788 - val_loss: 4.6319 - val_accuracy: 0.1984\n",
            "Epoch 58/100\n",
            "150/150 [==============================] - 111s 740ms/step - loss: 4.6469 - accuracy: 0.1795 - val_loss: 4.8030 - val_accuracy: 0.1935\n",
            "Epoch 59/100\n",
            "150/150 [==============================] - 111s 738ms/step - loss: 4.6271 - accuracy: 0.1807 - val_loss: 4.6667 - val_accuracy: 0.2045\n",
            "Epoch 60/100\n",
            "150/150 [==============================] - 111s 737ms/step - loss: 4.5969 - accuracy: 0.1824 - val_loss: 4.7158 - val_accuracy: 0.1982\n",
            "Epoch 61/100\n",
            "150/150 [==============================] - 111s 739ms/step - loss: 4.6065 - accuracy: 0.1827 - val_loss: 4.7126 - val_accuracy: 0.2009\n",
            "Epoch 62/100\n",
            "150/150 [==============================] - 111s 739ms/step - loss: 4.5993 - accuracy: 0.1829 - val_loss: 4.8235 - val_accuracy: 0.1881\n",
            "Epoch 63/100\n",
            "150/150 [==============================] - 111s 739ms/step - loss: 4.5754 - accuracy: 0.1884 - val_loss: 4.6701 - val_accuracy: 0.2016\n",
            "Epoch 64/100\n",
            "150/150 [==============================] - 111s 739ms/step - loss: 4.6165 - accuracy: 0.1832 - val_loss: 4.6406 - val_accuracy: 0.2095\n",
            "Epoch 65/100\n",
            "150/150 [==============================] - 110s 734ms/step - loss: 4.5615 - accuracy: 0.1873 - val_loss: 4.6796 - val_accuracy: 0.2053\n",
            "Epoch 66/100\n",
            "150/150 [==============================] - 110s 737ms/step - loss: 4.5861 - accuracy: 0.1844 - val_loss: 4.7908 - val_accuracy: 0.2001\n",
            "Epoch 67/100\n",
            "150/150 [==============================] - 110s 734ms/step - loss: 4.5303 - accuracy: 0.1902 - val_loss: 4.6051 - val_accuracy: 0.2157\n",
            "Epoch 68/100\n",
            "150/150 [==============================] - 110s 734ms/step - loss: 4.5441 - accuracy: 0.1920 - val_loss: 4.6863 - val_accuracy: 0.2141\n",
            "Epoch 69/100\n",
            "150/150 [==============================] - 110s 734ms/step - loss: 4.5555 - accuracy: 0.1838 - val_loss: 4.6632 - val_accuracy: 0.2169\n",
            "Epoch 70/100\n",
            "150/150 [==============================] - 109s 728ms/step - loss: 4.5475 - accuracy: 0.1881 - val_loss: 4.6371 - val_accuracy: 0.2157\n",
            "Epoch 71/100\n",
            "150/150 [==============================] - 109s 730ms/step - loss: 4.5341 - accuracy: 0.1900 - val_loss: 4.6168 - val_accuracy: 0.2135\n",
            "Epoch 72/100\n",
            "150/150 [==============================] - 110s 735ms/step - loss: 4.5506 - accuracy: 0.1891 - val_loss: 4.6198 - val_accuracy: 0.2141\n",
            "Epoch 73/100\n",
            "150/150 [==============================] - 109s 729ms/step - loss: 4.4899 - accuracy: 0.1952 - val_loss: 4.6055 - val_accuracy: 0.2180\n",
            "Epoch 74/100\n",
            "150/150 [==============================] - 109s 730ms/step - loss: 4.5188 - accuracy: 0.1936 - val_loss: 4.7596 - val_accuracy: 0.2003\n",
            "Epoch 75/100\n",
            "150/150 [==============================] - 110s 730ms/step - loss: 4.5118 - accuracy: 0.1942 - val_loss: 4.7052 - val_accuracy: 0.2155\n",
            "Epoch 76/100\n",
            "150/150 [==============================] - 108s 720ms/step - loss: 4.5407 - accuracy: 0.1928 - val_loss: 4.4593 - val_accuracy: 0.2325\n",
            "Epoch 77/100\n",
            "150/150 [==============================] - 109s 725ms/step - loss: 4.5090 - accuracy: 0.1949 - val_loss: 4.7124 - val_accuracy: 0.2168\n",
            "Epoch 78/100\n",
            "150/150 [==============================] - 108s 718ms/step - loss: 4.4910 - accuracy: 0.1924 - val_loss: 4.6655 - val_accuracy: 0.2123\n",
            "Epoch 79/100\n",
            "150/150 [==============================] - 108s 721ms/step - loss: 4.4860 - accuracy: 0.1936 - val_loss: 4.5779 - val_accuracy: 0.2245\n",
            "Epoch 80/100\n",
            "150/150 [==============================] - 110s 731ms/step - loss: 4.4877 - accuracy: 0.1953 - val_loss: 4.5497 - val_accuracy: 0.2271\n",
            "Epoch 81/100\n",
            "150/150 [==============================] - 109s 726ms/step - loss: 4.4845 - accuracy: 0.1953 - val_loss: 4.7317 - val_accuracy: 0.2072\n",
            "Epoch 82/100\n",
            "150/150 [==============================] - 108s 722ms/step - loss: 4.4688 - accuracy: 0.1976 - val_loss: 4.5545 - val_accuracy: 0.2273\n",
            "Epoch 83/100\n",
            "150/150 [==============================] - 111s 743ms/step - loss: 4.4392 - accuracy: 0.1977 - val_loss: 4.5983 - val_accuracy: 0.2251\n",
            "Epoch 84/100\n",
            "150/150 [==============================] - 110s 731ms/step - loss: 4.4504 - accuracy: 0.1988 - val_loss: 4.6340 - val_accuracy: 0.2145\n",
            "Epoch 85/100\n",
            "150/150 [==============================] - 110s 731ms/step - loss: 4.4534 - accuracy: 0.1980 - val_loss: 4.5306 - val_accuracy: 0.2259\n",
            "Epoch 86/100\n",
            "150/150 [==============================] - 110s 732ms/step - loss: 4.4513 - accuracy: 0.1970 - val_loss: 4.5527 - val_accuracy: 0.2299\n",
            "Epoch 87/100\n",
            "150/150 [==============================] - 109s 726ms/step - loss: 4.4328 - accuracy: 0.1986 - val_loss: 4.5790 - val_accuracy: 0.2223\n",
            "Epoch 88/100\n",
            "150/150 [==============================] - 110s 732ms/step - loss: 4.4427 - accuracy: 0.1980 - val_loss: 4.5252 - val_accuracy: 0.2321\n",
            "Epoch 89/100\n",
            "150/150 [==============================] - 109s 730ms/step - loss: 4.4634 - accuracy: 0.1975 - val_loss: 4.6184 - val_accuracy: 0.2179\n",
            "Epoch 90/100\n",
            "150/150 [==============================] - 109s 728ms/step - loss: 4.4463 - accuracy: 0.1976 - val_loss: 4.6786 - val_accuracy: 0.2193\n",
            "Epoch 91/100\n",
            "150/150 [==============================] - 108s 722ms/step - loss: 4.4536 - accuracy: 0.1973 - val_loss: 4.6293 - val_accuracy: 0.2164\n",
            "Epoch 92/100\n",
            "150/150 [==============================] - 109s 726ms/step - loss: 4.4362 - accuracy: 0.2010 - val_loss: 4.6235 - val_accuracy: 0.2140\n",
            "Epoch 93/100\n",
            "150/150 [==============================] - 109s 726ms/step - loss: 4.4205 - accuracy: 0.2005 - val_loss: 4.6258 - val_accuracy: 0.2278\n",
            "Epoch 94/100\n",
            "150/150 [==============================] - 109s 725ms/step - loss: 4.4210 - accuracy: 0.2039 - val_loss: 4.5929 - val_accuracy: 0.2247\n",
            "Epoch 95/100\n",
            "150/150 [==============================] - 108s 721ms/step - loss: 4.4216 - accuracy: 0.2008 - val_loss: 4.5078 - val_accuracy: 0.2268\n",
            "Epoch 96/100\n",
            "150/150 [==============================] - 109s 724ms/step - loss: 4.4129 - accuracy: 0.2039 - val_loss: 4.5469 - val_accuracy: 0.2305\n",
            "Epoch 97/100\n",
            "150/150 [==============================] - 108s 723ms/step - loss: 4.3943 - accuracy: 0.2042 - val_loss: 4.6411 - val_accuracy: 0.2189\n",
            "Epoch 98/100\n",
            "150/150 [==============================] - 109s 726ms/step - loss: 4.4017 - accuracy: 0.2039 - val_loss: 4.6100 - val_accuracy: 0.2287\n",
            "Epoch 99/100\n",
            "150/150 [==============================] - 108s 723ms/step - loss: 4.4194 - accuracy: 0.2001 - val_loss: 4.5044 - val_accuracy: 0.2341\n",
            "Epoch 100/100\n",
            "150/150 [==============================] - 108s 718ms/step - loss: 4.3767 - accuracy: 0.2115 - val_loss: 4.4924 - val_accuracy: 0.2374\n"
          ],
          "name": "stdout"
        }
      ]
    },
    {
      "cell_type": "code",
      "metadata": {
        "id": "UNHvzimUZH3v",
        "outputId": "7ebc742d-810d-48a1-c72e-b35fb734ecb6",
        "colab": {
          "base_uri": "https://localhost:8080/",
          "height": 34
        }
      },
      "source": [
        "history1"
      ],
      "execution_count": null,
      "outputs": [
        {
          "output_type": "execute_result",
          "data": {
            "text/plain": [
              "<tensorflow.python.keras.callbacks.History at 0x7f04acdab198>"
            ]
          },
          "metadata": {
            "tags": []
          },
          "execution_count": 10
        }
      ]
    },
    {
      "cell_type": "code",
      "metadata": {
        "id": "8GQvsCEE4zyR",
        "outputId": "3699dcca-f18e-42c3-b48b-b0530d066700",
        "colab": {
          "base_uri": "https://localhost:8080/",
          "height": 545
        }
      },
      "source": [
        "acc = history1.history['accuracy']\n",
        "val_acc = history1.history['val_accuracy']\n",
        "loss = history1.history['loss']\n",
        "val_loss = history1.history['val_loss']\n",
        "epochs = range(60)\n",
        "plt.figure()\n",
        "plt.plot(epochs, acc, 'bo', label='Training accuracy')\n",
        "plt.plot(epochs, val_acc, 'b', label='Validation accuracy')\n",
        "plt.title('Training and validation accuracy')\n",
        "plt.legend()\n",
        "plt.show()\n",
        "epochs = range(60)\n",
        "plt.figure()\n",
        "plt.plot(epochs, loss, 'bo', label='Training loss')\n",
        "plt.plot(epochs, val_loss, 'b', label='Validation loss')\n",
        "plt.title('Training and validation loss')\n",
        "plt.legend()\n",
        "plt.show()"
      ],
      "execution_count": null,
      "outputs": [
        {
          "output_type": "display_data",
          "data": {
            "image/png": "[encoded data removed]",
            "text/plain": [
              "<Figure size 432x288 with 1 Axes>"
            ]
          },
          "metadata": {
            "tags": [],
            "needs_background": "light"
          }
        },
        {
          "output_type": "display_data",
          "data": {
            "image/png": "[encoded data removed]",
            "text/plain": [
              "<Figure size 432x288 with 1 Axes>"
            ]
          },
          "metadata": {
            "tags": [],
            "needs_background": "light"
          }
        }
      ]
    },
    {
      "cell_type": "code",
      "metadata": {
        "id": "QoFWWoes_irQ"
      },
      "source": [
        ""
      ],
      "execution_count": null,
      "outputs": []
    }
  ]
}